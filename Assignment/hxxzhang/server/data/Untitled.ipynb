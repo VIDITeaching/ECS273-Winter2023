{
 "cells": [
  {
   "cell_type": "code",
   "execution_count": 8,
   "id": "6a80a21f",
   "metadata": {},
   "outputs": [],
   "source": [
    "from sklearn.decomposition import PCA\n",
    "from sklearn.manifold import TSNE\n",
    "from sklearn import preprocessing\n",
    "import numpy as np\n",
    "\n",
    "def perform_PCA(X: np.ndarray) -> tuple[np.ndarray, np.ndarray]:\n",
    "    scaler = preprocessing.StandardScaler()\n",
    "    X = scaler.fit_transform(X)\n",
    "\n",
    "    pca = PCA(n_components=2)\n",
    "    pca.fit(X)  # Learn the projection matrix\n",
    "    Z = pca.transform(X) # Project the given data with the learnt projection matrix\n",
    "    \n",
    "    PC1, PC2 = pca.components_ # Since n_components = 2\n",
    "    PCs = np.vstack((PC1.reshape(1, -1), PC2.reshape(1, -1))) # Rows refer to each PC; Columns refer to each data attribute\n",
    "    return Z, PCs\n",
    "\n",
    "\n",
    "def perform_TSNE(X: np.ndarray, perplexity: int = 5) -> np.ndarray:\n",
    "    scaler = preprocessing.StandardScaler()\n",
    "    X = scaler.fit_transform(X)\n",
    "\n",
    "    tsne = TSNE(n_components=2, perplexity=perplexity)\n",
    "    Z = tsne.fit_transform(X)\n",
    "    return Z\n"
   ]
  },
  {
   "cell_type": "code",
   "execution_count": 16,
   "id": "58855938",
   "metadata": {},
   "outputs": [
    {
     "name": "stderr",
     "output_type": "stream",
     "text": [
      "Fontconfig warning: ignoring UTF-8: not a valid region tag\n"
     ]
    }
   ],
   "source": [
    "import numpy as np\n",
    "import pandas as pd\n",
    "\n",
    "import matplotlib.pyplot as plt\n",
    "from datetime import datetime\n",
    "from datetime import timedelta\n",
    "\n",
    "from statsmodels.tsa.seasonal import seasonal_decompose\n",
    "from statsmodels.tsa.arima.model import ARIMA\n",
    "from statsmodels.tsa.statespace.sarimax import SARIMAX\n",
    "from statsmodels.tsa.stattools import adfuller\n",
    "from statsmodels.graphics.tsaplots import plot_acf, plot_pacf\n",
    "from time import time\n",
    "\n",
    "import seaborn as sns\n",
    "sns.set(style=\"whitegrid\")\n",
    "\n",
    "import warnings\n",
    "warnings.filterwarnings('ignore')\n",
    "\n",
    "# NOTE: current directory: ECS273-Winter2023/Assignment/Vue-Flask-Template/dashboard\n",
    "\n",
    "def apply_arima(data: pd.DataFrame, column: str, plot=False):\n",
    "    arima = ARIMA(data[column], order=(12,1,1))\n",
    "    predictions = arima.fit().predict()\n",
    "    \n",
    "    if plot:\n",
    "        plt.figure(figsize=(16,4))\n",
    "        plt.plot(data['Total'], label=\"Actual\")\n",
    "        plt.plot(predictions, label=\"Predicted\")\n",
    "        plt.title('Sales in 1000s of Units', fontsize=20)\n",
    "        plt.ylabel('Sales', fontsize=16)\n",
    "        plt.legend()\n",
    "    return predictions\n",
    "\n",
    "def apply_sarima(data: pd.DataFrame, column: str, plot=False):\n",
    "    sarima = SARIMAX(data[column],\n",
    "                order=(1,1,1),\n",
    "                seasonal_order=(1,1,0,12))\n",
    "    predictions = sarima.fit().predict()\n",
    "    \n",
    "    if plot:\n",
    "        plt.figure(figsize=(16,4))\n",
    "        plt.plot(data, label=\"Actual\")\n",
    "        plt.plot(predictions, label=\"Predicted\")\n",
    "        plt.title('Sales in 1000s of Units', fontsize=20)\n",
    "        plt.ylabel('Sales', fontsize=16)\n",
    "        plt.legend()\n",
    "    return predictions\n",
    "\n",
    "###################        Example     ################### \n",
    "# sales = prepare_time_template_data()\n",
    "# arima_prediction = apply_arima(sales, \"Total\")\n",
    "# sarima_prediction = apply_sarima(sales, \"Total\")\n",
    "##########################################################\n",
    "\n",
    "def _parser(s):\n",
    "    return datetime.strptime(s, '%Y-%m-%d')\n",
    "\n",
    "def prepare_time_template_data(plot=False) -> pd.DataFrame:\n",
    "    sales = pd.read_csv('../server/data/time_template.csv', parse_dates=[0], index_col=0, date_parser=_parser)\n",
    "\n",
    "    #plot\n",
    "    if plot:\n",
    "        plt.figure(figsize=(14,4))\n",
    "        plt.plot(sales)\n",
    "        plt.title('Sales in 1000s of Units', fontsize=20)\n",
    "        plt.ylabel('Sales', fontsize=16)\n",
    "        \n",
    "        plt.rc('figure',figsize=(14,8))\n",
    "        plt.rc('font',size=15)\n",
    "\n",
    "        result = seasonal_decompose(sales,model='additive')\n",
    "        fig = result.plot()\n",
    "        \n",
    "        plot_acf(sales['Total'], lags=48);\n",
    "        plot_pacf(sales['Total'], lags=30);\n",
    "    return sales\n"
   ]
  },
  {
   "cell_type": "code",
   "execution_count": 10,
   "id": "bf2d349f",
   "metadata": {
    "scrolled": false
   },
   "outputs": [
    {
     "data": {
      "text/plain": [
       "[{'name': 'SEKER', 'value': 2027},\n",
       " {'name': 'BARBUNYA', 'value': 1322},\n",
       " {'name': 'BOMBAY', 'value': 522},\n",
       " {'name': 'CALI', 'value': 1630},\n",
       " {'name': 'HOROZ', 'value': 1928},\n",
       " {'name': 'SIRA', 'value': 2636},\n",
       " {'name': 'DERMASON', 'value': 3546}]"
      ]
     },
     "execution_count": 10,
     "metadata": {},
     "output_type": "execute_result"
    }
   ],
   "source": [
    "import pandas as pd\n",
    "import numpy as np\n",
    "from sklearn.datasets import load_wine\n",
    "# from resources.hd_processing_template import perform_PCA, perform_TSNE\n",
    "#from resources.network_process_template import contsruct_networkx\n",
    "#from resources.text_processing_template import preprocess\n",
    "#from resources.time_processing_template import prepare_time_template_data, apply_arima, apply_sarima\n",
    "import matplotlib.pyplot as plt\n",
    "import seaborn as sns\n",
    "data=pd.read_excel('./Dry_Bean_Dataset.xlsx')\n",
    "ans=[]\n",
    "for i in data['Class'].unique():\n",
    "    ans.append({'name':i,'value': (data['Class']==i).sum()  })\n",
    "    \n",
    "ans\n"
   ]
  },
  {
   "cell_type": "code",
   "execution_count": 7,
   "id": "f06cd6ec",
   "metadata": {},
   "outputs": [
    {
     "data": {
      "text/plain": [
       "3546"
      ]
     },
     "execution_count": 7,
     "metadata": {},
     "output_type": "execute_result"
    }
   ],
   "source": [
    "(data['Class']==i).sum()"
   ]
  },
  {
   "cell_type": "code",
   "execution_count": 97,
   "id": "1713d0b4",
   "metadata": {},
   "outputs": [
    {
     "data": {
      "text/plain": [
       "(      date  CO(GT)  year\n",
       " 0    03-10     2.6  2004\n",
       " 1    03-10     2.0  2004\n",
       " 2    03-10     2.2  2004\n",
       " 3    03-10     2.2  2004\n",
       " 4    03-10     1.6  2004\n",
       " ..     ...     ...   ...\n",
       " 145  03-16     3.9  2004\n",
       " 146  03-16     3.2  2004\n",
       " 147  03-16     5.1  2004\n",
       " 148  03-16     2.6  2004\n",
       " 149  03-16     1.7  2004\n",
       " \n",
       " [150 rows x 3 columns],\n",
       " numpy.ndarray)"
      ]
     },
     "execution_count": 97,
     "metadata": {},
     "output_type": "execute_result"
    }
   ],
   "source": [
    "air_data['year']=air_data['Date'].dt.year\n",
    "air_data['date']=air_data['Date'].dt.strftime('%m-%d')\n",
    "points=air_data[['date','CO(GT)','year']]\n",
    "points.drop(points[points['CO(GT)']=='-200.0'].index)\n",
    "targets=air_data['year'].unique()\n",
    "points[:150],type(targets)\n",
    "# points.drop(points[points['CO(GT)']=='-200.0'].index), points.to_dict(orient='records'), list(targets)"
   ]
  },
  {
   "cell_type": "code",
   "execution_count": 51,
   "id": "6df34f8c",
   "metadata": {},
   "outputs": [],
   "source": [
    "# test=air_data[['year','month','CO(GT)']].pivot(\"year\",\"month\",\"CO(GT)\")"
   ]
  },
  {
   "cell_type": "code",
   "execution_count": 94,
   "id": "4a6b6301",
   "metadata": {},
   "outputs": [
    {
     "name": "stdout",
     "output_type": "stream",
     "text": [
      "<class 'pandas.core.frame.DataFrame'> <class 'numpy.int64'> 3.3167508122147775 <class 'numpy.ndarray'>\n"
     ]
    },
    {
     "data": {
      "text/html": [
       "<div>\n",
       "<style scoped>\n",
       "    .dataframe tbody tr th:only-of-type {\n",
       "        vertical-align: middle;\n",
       "    }\n",
       "\n",
       "    .dataframe tbody tr th {\n",
       "        vertical-align: top;\n",
       "    }\n",
       "\n",
       "    .dataframe thead th {\n",
       "        text-align: right;\n",
       "    }\n",
       "</style>\n",
       "<table border=\"1\" class=\"dataframe\">\n",
       "  <thead>\n",
       "    <tr style=\"text-align: right;\">\n",
       "      <th></th>\n",
       "      <th>posX</th>\n",
       "      <th>posY</th>\n",
       "      <th>cluster</th>\n",
       "    </tr>\n",
       "  </thead>\n",
       "  <tbody>\n",
       "    <tr>\n",
       "      <th>0</th>\n",
       "      <td>3.316751</td>\n",
       "      <td>-1.443463</td>\n",
       "      <td>0</td>\n",
       "    </tr>\n",
       "    <tr>\n",
       "      <th>1</th>\n",
       "      <td>2.209465</td>\n",
       "      <td>0.333393</td>\n",
       "      <td>0</td>\n",
       "    </tr>\n",
       "    <tr>\n",
       "      <th>2</th>\n",
       "      <td>2.516740</td>\n",
       "      <td>-1.031151</td>\n",
       "      <td>0</td>\n",
       "    </tr>\n",
       "    <tr>\n",
       "      <th>3</th>\n",
       "      <td>3.757066</td>\n",
       "      <td>-2.756372</td>\n",
       "      <td>0</td>\n",
       "    </tr>\n",
       "    <tr>\n",
       "      <th>4</th>\n",
       "      <td>1.008908</td>\n",
       "      <td>-0.869831</td>\n",
       "      <td>0</td>\n",
       "    </tr>\n",
       "    <tr>\n",
       "      <th>...</th>\n",
       "      <td>...</td>\n",
       "      <td>...</td>\n",
       "      <td>...</td>\n",
       "    </tr>\n",
       "    <tr>\n",
       "      <th>173</th>\n",
       "      <td>-3.370524</td>\n",
       "      <td>-2.216289</td>\n",
       "      <td>2</td>\n",
       "    </tr>\n",
       "    <tr>\n",
       "      <th>174</th>\n",
       "      <td>-2.601956</td>\n",
       "      <td>-1.757229</td>\n",
       "      <td>2</td>\n",
       "    </tr>\n",
       "    <tr>\n",
       "      <th>175</th>\n",
       "      <td>-2.677839</td>\n",
       "      <td>-2.760899</td>\n",
       "      <td>2</td>\n",
       "    </tr>\n",
       "    <tr>\n",
       "      <th>176</th>\n",
       "      <td>-2.387017</td>\n",
       "      <td>-2.297347</td>\n",
       "      <td>2</td>\n",
       "    </tr>\n",
       "    <tr>\n",
       "      <th>177</th>\n",
       "      <td>-3.208758</td>\n",
       "      <td>-2.768920</td>\n",
       "      <td>2</td>\n",
       "    </tr>\n",
       "  </tbody>\n",
       "</table>\n",
       "<p>178 rows × 3 columns</p>\n",
       "</div>"
      ],
      "text/plain": [
       "         posX      posY  cluster\n",
       "0    3.316751 -1.443463        0\n",
       "1    2.209465  0.333393        0\n",
       "2    2.516740 -1.031151        0\n",
       "3    3.757066 -2.756372        0\n",
       "4    1.008908 -0.869831        0\n",
       "..        ...       ...      ...\n",
       "173 -3.370524 -2.216289        2\n",
       "174 -2.601956 -1.757229        2\n",
       "175 -2.677839 -2.760899        2\n",
       "176 -2.387017 -2.297347        2\n",
       "177 -3.208758 -2.768920        2\n",
       "\n",
       "[178 rows x 3 columns]"
      ]
     },
     "execution_count": 94,
     "metadata": {},
     "output_type": "execute_result"
    }
   ],
   "source": [
    "data: dict = load_wine()\n",
    "X: np.ndarray = data.data\n",
    "y: np.ndarray = data.target\n",
    "#feat_names: np.ndarray = data.feature_names\n",
    "target_names: np.ndarray = data.target_names\n",
    "\n",
    "Z, _ = perform_PCA(X)\n",
    "points = pd.DataFrame(Z, columns=['posX', 'posY'])\n",
    "points['cluster'] = y\n",
    "print(type(points),type(points['cluster'][0]),points['posX'][0], type(target_names))\n",
    "points\n",
    "# How to JSON serialize pandas dataframes and numpy arrays\n",
    "# points.to_dict(orient='records'), list(target_names)"
   ]
  },
  {
   "cell_type": "code",
   "execution_count": null,
   "id": "f4d5764b",
   "metadata": {},
   "outputs": [],
   "source": []
  }
 ],
 "metadata": {
  "kernelspec": {
   "display_name": "Python 3 (ipykernel)",
   "language": "python",
   "name": "python3"
  },
  "language_info": {
   "codemirror_mode": {
    "name": "ipython",
    "version": 3
   },
   "file_extension": ".py",
   "mimetype": "text/x-python",
   "name": "python",
   "nbconvert_exporter": "python",
   "pygments_lexer": "ipython3",
   "version": "3.9.6"
  }
 },
 "nbformat": 4,
 "nbformat_minor": 5
}
