{
 "cells": [
  {
   "cell_type": "code",
   "execution_count": 1,
   "metadata": {},
   "outputs": [],
   "source": [
    "import csv\n",
    "import random\n",
    "\n",
    "def random_sample(file_name):\n",
    "    selected = []\n",
    "    selected_count = 0\n",
    "    total_count = 0\n",
    "    \n",
    "    # Open the input file\n",
    "    with open(file_name, 'r') as file:\n",
    "        reader = csv.reader(file)\n",
    "        \n",
    "        # Loop through each line in the file\n",
    "        for line in reader:\n",
    "            total_count += 1\n",
    "            \n",
    "            # Randomly select the line using reservoir sampling\n",
    "            if selected_count < 40000:\n",
    "                selected.append(line)\n",
    "                selected_count += 1\n",
    "            elif random.randint(0, total_count) < 40000:\n",
    "                selected[random.randint(0, 40000-1)] = line\n",
    "    \n",
    "    # Write the selected lines to a new file\n",
    "    with open('rent_40k.csv', 'w', newline='') as file:\n",
    "        writer = csv.writer(file)\n",
    "        writer.writerows(selected)\n",
    "\n",
    "# Example usage\n",
    "random_sample('rent.csv')\n"
   ]
  }
 ],
 "metadata": {
  "kernelspec": {
   "display_name": "Python 3",
   "language": "python",
   "name": "python3"
  },
  "language_info": {
   "codemirror_mode": {
    "name": "ipython",
    "version": 3
   },
   "file_extension": ".py",
   "mimetype": "text/x-python",
   "name": "python",
   "nbconvert_exporter": "python",
   "pygments_lexer": "ipython3",
   "version": "3.11.1"
  },
  "orig_nbformat": 4,
  "vscode": {
   "interpreter": {
    "hash": "aee8b7b246df8f9039afb4144a1f6fd8d2ca17a180786b69acc140d282b71a49"
   }
  }
 },
 "nbformat": 4,
 "nbformat_minor": 2
}
